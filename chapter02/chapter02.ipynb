{
 "cells": [
  {
   "cell_type": "markdown",
   "metadata": {},
   "source": [
    "# Chapter 02 자료형"
   ]
  },
  {
   "cell_type": "markdown",
   "metadata": {},
   "source": [
    "## 2.1 변수와 상수"
   ]
  },
  {
   "cell_type": "markdown",
   "metadata": {},
   "source": [
    "### 변수 선언하기"
   ]
  },
  {
   "cell_type": "code",
   "execution_count": 1,
   "metadata": {},
   "outputs": [],
   "source": [
    "a1 = 2048\t\t\t# 변수 a1은 숫자를 저장\n",
    "a2 = \"안녕하세요.\" # 변수 a2는 문자열을 저장"
   ]
  },
  {
   "cell_type": "code",
   "execution_count": 2,
   "metadata": {},
   "outputs": [
    {
     "name": "stdout",
     "output_type": "stream",
     "text": [
      "1024\n"
     ]
    }
   ],
   "source": [
    "a = 1024\t\t# 변수 a에 1024를 저장\n",
    "print (a)\t\t# a를 화면에 출력"
   ]
  },
  {
   "cell_type": "markdown",
   "metadata": {},
   "source": [
    "### 변수명 규칙"
   ]
  },
  {
   "cell_type": "code",
   "execution_count": 3,
   "metadata": {},
   "outputs": [
    {
     "ename": "SyntaxError",
     "evalue": "invalid syntax (Temp/ipykernel_7144/2801558528.py, line 1)",
     "output_type": "error",
     "traceback": [
      "\u001b[1;36m  File \u001b[1;32m\"C:\\Users\\hbuser\\AppData\\Local\\Temp/ipykernel_7144/2801558528.py\"\u001b[1;36m, line \u001b[1;32m1\u001b[0m\n\u001b[1;33m    100원 = \"백원\"\t\t\t\t\t# 변수명을 숫자 100으로 시작하여 에러 발생\u001b[0m\n\u001b[1;37m       ^\u001b[0m\n\u001b[1;31mSyntaxError\u001b[0m\u001b[1;31m:\u001b[0m invalid syntax\n"
     ]
    }
   ],
   "source": [
    "100원 = \"백원\"\t\t\t\t\t# 변수명을 숫자 100으로 시작하여 에러 발생\n",
    "email@ = \"test@naver.com\"\t# 변수명에 특수문자 @를 사용하여 에러 발생\n",
    "my age = 30\t\t\t\t\t# 변수명에 공백을 사용하여 에러 발생\n",
    "break = 100\t\t\t\t\t# 변수명에 예약어를 사용하여 에러 발생"
   ]
  },
  {
   "cell_type": "markdown",
   "metadata": {},
   "source": [
    "### 상수 사용하기"
   ]
  },
  {
   "cell_type": "code",
   "execution_count": null,
   "metadata": {},
   "outputs": [],
   "source": [
    "print(20)\t\t# 숫자 상수 20을 화면에 출력\n",
    "print('A')\t\t# 문자 상수 ‘A’를 화면에 출력\n",
    "print(\"선생님\")\t# 문자열 상수 \"선생님\"을 화면에 출력"
   ]
  },
  {
   "cell_type": "code",
   "execution_count": null,
   "metadata": {},
   "outputs": [],
   "source": [
    "x = 3\t\t\t\t\t# 변수 x에 3을 저장\n",
    "y = x + 2\t\t\t\t# 변수 x에 2를 더하여 y에 저장\n",
    "print(y)\t\t\t\t# 변수 y를 화면에 출력\n",
    "\n",
    "s= \"선생님\"\t\t\t\t# 변수 s에 “선생님” 저장\n",
    "s = s + \", \" + \"안녕하세요!\"\t# 변수 s에 “, “ 와 \"안녕하세요!\"를 더하여 s에 다시 저장\n",
    "print(s)\t\t\t\t# 변수 s를 화면에 출력"
   ]
  },
  {
   "cell_type": "markdown",
   "metadata": {},
   "source": [
    "## 2.2 기본 자료형"
   ]
  },
  {
   "cell_type": "markdown",
   "metadata": {},
   "source": [
    "### 숫자"
   ]
  },
  {
   "cell_type": "code",
   "execution_count": null,
   "metadata": {},
   "outputs": [],
   "source": [
    "a = 359  \t\t# 변수 a에 359를 저장\n",
    "print(type(a))\t# a의 자료형을 출력"
   ]
  },
  {
   "cell_type": "code",
   "execution_count": null,
   "metadata": {},
   "outputs": [],
   "source": [
    "a = 359 \t\t# 변수 a에 359를 저장\n",
    "a \t\t\t\t# print() 함수를 사용하지 않아도 저장된 값 확인 가능"
   ]
  },
  {
   "cell_type": "code",
   "execution_count": null,
   "metadata": {},
   "outputs": [],
   "source": [
    "a = -3.619  \t# 변수 a에 -3.619를 저장\n",
    "print(type(a))\t# a의 자료형을 출력"
   ]
  },
  {
   "cell_type": "code",
   "execution_count": null,
   "metadata": {},
   "outputs": [],
   "source": [
    "a = 27  \t\t# 변수 a에 27을 저장\n",
    "b = 9\t\t\t# 변수 b에 9를 저장\n",
    "a + b\t\t\t# a와 b 더하기, 연산자 + 사용"
   ]
  },
  {
   "cell_type": "code",
   "execution_count": null,
   "metadata": {},
   "outputs": [],
   "source": [
    "a - b\t\t# a에서 b 빼기, 연산자 - 사용"
   ]
  },
  {
   "cell_type": "code",
   "execution_count": null,
   "metadata": {},
   "outputs": [],
   "source": [
    "a * b\t\t# a와 b 곱하기, 연산자 * 사용"
   ]
  },
  {
   "cell_type": "code",
   "execution_count": null,
   "metadata": {},
   "outputs": [],
   "source": [
    "print(a / b)  \t\t# a를 b로 나누었을 때 값 구하기, 연산자 / 사용\n",
    "print(a // b)\t\t# a를 b로 나누었을 때 몫 구하기, 연산자 // 사용\n",
    "print(a % b)\t\t# a를 b로 나누었을 때 나머지 구하기, 연산자 % 사용"
   ]
  },
  {
   "cell_type": "code",
   "execution_count": null,
   "metadata": {},
   "outputs": [],
   "source": [
    "4 ** 3\t\t# 4의 세제곱, 연산자 ** 사용"
   ]
  },
  {
   "cell_type": "code",
   "execution_count": null,
   "metadata": {},
   "outputs": [],
   "source": [
    "3 + 2 ** 3 / (5-3)"
   ]
  },
  {
   "cell_type": "code",
   "execution_count": null,
   "metadata": {},
   "outputs": [],
   "source": [
    "abs(-3)\t\t\t# -3의 절대값을 구함"
   ]
  },
  {
   "cell_type": "code",
   "execution_count": null,
   "metadata": {},
   "outputs": [],
   "source": [
    "round(3.14159, 3)\t# 실수 3.14159를 소수점 넷째 자리에서 반올림하여 셋째 자리까지 출력"
   ]
  },
  {
   "cell_type": "code",
   "execution_count": null,
   "metadata": {},
   "outputs": [],
   "source": [
    "a = 0o467  \t\t# 8진수 표현\n",
    "b = 0x7fc\t\t# 16진수 표현\n",
    "print(a)\n",
    "print(b)"
   ]
  },
  {
   "cell_type": "markdown",
   "metadata": {},
   "source": [
    "### 문자열"
   ]
  },
  {
   "cell_type": "code",
   "execution_count": null,
   "metadata": {},
   "outputs": [],
   "source": [
    "a = \"Hello Python!\"\n",
    "a"
   ]
  },
  {
   "cell_type": "code",
   "execution_count": null,
   "metadata": {},
   "outputs": [],
   "source": [
    "type(a)"
   ]
  },
  {
   "cell_type": "code",
   "execution_count": null,
   "metadata": {},
   "outputs": [],
   "source": [
    "sen = \"It's mine.\" \t\t# 작은따옴표를 문자열 안에 포함할 때\n",
    "print(sen)"
   ]
  },
  {
   "cell_type": "code",
   "execution_count": null,
   "metadata": {},
   "outputs": [],
   "source": [
    "sen2 = '“It is impossible.” He says.' \t\t# 큰따옴표를 문자열 안에 포함할 때\n",
    "print(sen2)"
   ]
  },
  {
   "cell_type": "code",
   "execution_count": null,
   "metadata": {},
   "outputs": [],
   "source": [
    "sen3 = 'It\\'s mine.'\t\t\t\t\t\t# 작은따옴표를 문자열 앞뒤와 안에 사용\n",
    "sen4 = \"\\\"It is impossible.\\\" He says.\" \t# 큰따옴표를 문자열 앞뒤와 안에 사용\n",
    "print(sen3)\n",
    "print(sen4)"
   ]
  },
  {
   "cell_type": "code",
   "execution_count": null,
   "metadata": {},
   "outputs": [],
   "source": [
    "a = \"\"\"Hello!\n",
    "Python!\"\"\"\n",
    "print(a)"
   ]
  },
  {
   "cell_type": "code",
   "execution_count": null,
   "metadata": {},
   "outputs": [],
   "source": [
    "a = \"Hello!\\nPython!\"\n",
    "print(a)"
   ]
  },
  {
   "cell_type": "code",
   "execution_count": null,
   "metadata": {},
   "outputs": [],
   "source": [
    "a = \"Hello! \"\n",
    "b = \"Python!\"\n",
    "print(a + b)\t\t# 문자열 변수인 a와 b를 연결"
   ]
  },
  {
   "cell_type": "code",
   "execution_count": null,
   "metadata": {},
   "outputs": [],
   "source": [
    "a * 3\t\t\t# 문자열 변수 a를 3번 반복"
   ]
  },
  {
   "cell_type": "code",
   "execution_count": null,
   "metadata": {},
   "outputs": [],
   "source": [
    "a = \"26\"\n",
    "b = \"3\"\n",
    "a + b\t\t\t# 문자열 변수 a와 b를 연결"
   ]
  },
  {
   "cell_type": "code",
   "execution_count": null,
   "metadata": {},
   "outputs": [],
   "source": [
    "a * 3\t\t\t# 문자열 변수 a를 3번 반복"
   ]
  },
  {
   "cell_type": "code",
   "execution_count": null,
   "metadata": {},
   "outputs": [],
   "source": [
    "a = 26 \t\t\t# 변수 a에 숫자 자료형(정수) 26을 저장\n",
    "b =\"8\" \t\t# 변수 b에 문자열 자료형 8을 저장\n",
    "a + b"
   ]
  },
  {
   "cell_type": "code",
   "execution_count": null,
   "metadata": {},
   "outputs": [],
   "source": [
    "a = \"Hello! Python!\""
   ]
  },
  {
   "cell_type": "code",
   "execution_count": null,
   "metadata": {},
   "outputs": [],
   "source": [
    "a[-1]\t\t\t# 뒤에서부터 인덱스를 계산, 인덱스 -1의 위치는 ! "
   ]
  },
  {
   "cell_type": "code",
   "execution_count": 4,
   "metadata": {},
   "outputs": [
    {
     "ename": "TypeError",
     "evalue": "'int' object is not subscriptable",
     "output_type": "error",
     "traceback": [
      "\u001b[1;31m---------------------------------------------------------------------------\u001b[0m",
      "\u001b[1;31mTypeError\u001b[0m                                 Traceback (most recent call last)",
      "\u001b[1;32m~\\AppData\\Local\\Temp/ipykernel_7144/3885769819.py\u001b[0m in \u001b[0;36m<module>\u001b[1;34m\u001b[0m\n\u001b[1;32m----> 1\u001b[1;33m \u001b[0ma\u001b[0m\u001b[1;33m[\u001b[0m\u001b[1;36m3\u001b[0m\u001b[1;33m]\u001b[0m                    \u001b[1;31m# 뒤에서부터 인덱스를 계산, 인덱스 3의 위치는 l\u001b[0m\u001b[1;33m\u001b[0m\u001b[1;33m\u001b[0m\u001b[0m\n\u001b[0m",
      "\u001b[1;31mTypeError\u001b[0m: 'int' object is not subscriptable"
     ]
    }
   ],
   "source": [
    "a[3]\t\t\t# 뒤에서부터 인덱스를 계산, 인덱스 3의 위치는 l"
   ]
  },
  {
   "cell_type": "code",
   "execution_count": null,
   "metadata": {},
   "outputs": [],
   "source": [
    "a[3:9]\t\t\t# 인덱스 3부터 8까지 추출"
   ]
  },
  {
   "cell_type": "code",
   "execution_count": null,
   "metadata": {},
   "outputs": [],
   "source": [
    "a[3:-4]\t\t\t# 인덱스 3부터 -5까지 추출"
   ]
  },
  {
   "cell_type": "code",
   "execution_count": null,
   "metadata": {},
   "outputs": [],
   "source": [
    "a[:8]\t\t\t# 문자열 처음부터 인덱스 7까지 추출"
   ]
  },
  {
   "cell_type": "code",
   "execution_count": null,
   "metadata": {},
   "outputs": [],
   "source": [
    "a[3:]\t\t\t# 인덱스 3부터 문자열 끝까지 추출"
   ]
  },
  {
   "cell_type": "code",
   "execution_count": null,
   "metadata": {},
   "outputs": [],
   "source": [
    "a = \"Life\" \t\t\t\t\t# 변수 a에 문자열 자료형 \"Life\"를 저장\n",
    "b = a[0:2] + \"v\" + a[-1] \t# 슬라이싱 활용\n",
    "print(b)"
   ]
  },
  {
   "cell_type": "code",
   "execution_count": null,
   "metadata": {},
   "outputs": [],
   "source": [
    "\"I eat %s bananas.\" %3  # %s 대신 3을 입력해서 값을 출력"
   ]
  },
  {
   "cell_type": "code",
   "execution_count": null,
   "metadata": {},
   "outputs": [],
   "source": [
    "\"I eat %s bananas.\" %\"three\" # %s 대신 “three”를 입력해서 값을 출력"
   ]
  },
  {
   "cell_type": "code",
   "execution_count": null,
   "metadata": {},
   "outputs": [],
   "source": [
    "color = \"blue\"\t\t\t\t\t# color 변수를 생성\n",
    "\"I like %s color.\"  %color\t\t# %s 대신 변수 color에 저장된 “blue” 값을 출력"
   ]
  },
  {
   "cell_type": "code",
   "execution_count": null,
   "metadata": {},
   "outputs": [],
   "source": [
    "ar = \"%15s\"  %\"hello\"\t\t# 문자열 길이 15, hello 오른쪽 정렬 \n",
    "ar"
   ]
  },
  {
   "cell_type": "code",
   "execution_count": null,
   "metadata": {},
   "outputs": [],
   "source": [
    "ar = \"%-15s\" % \"hello\"\t\t# 문자열 길이 15, hello 왼쪽 정렬\n",
    "ar"
   ]
  },
  {
   "cell_type": "code",
   "execution_count": null,
   "metadata": {},
   "outputs": [],
   "source": [
    "ar = \"John%10s\" % \"hello\"\t# John 다음에 공백 10개 추가, hello 오른쪽 정렬\n",
    "print(ar)"
   ]
  },
  {
   "cell_type": "code",
   "execution_count": null,
   "metadata": {},
   "outputs": [],
   "source": [
    "a = \"%4d\"%34\t\t\t\t# 공백을 4개 만들고 정수를 오른쪽 정렬 출력\n",
    "print(a)"
   ]
  },
  {
   "cell_type": "code",
   "execution_count": null,
   "metadata": {},
   "outputs": [],
   "source": [
    "b = \"%10.2f\" %5.6182359\t\t# 공백을 10개 만들고 실수를 소수점 둘째 자리까지 오른쪽 정렬 \n",
    "print(b)"
   ]
  },
  {
   "cell_type": "code",
   "execution_count": null,
   "metadata": {},
   "outputs": [],
   "source": [
    "test = \"I need {} eggs.\".format(5)\t\t# format 함수에 있는 값 “5”가 {} 위치에 들어감\n",
    "print(test)"
   ]
  },
  {
   "cell_type": "code",
   "execution_count": null,
   "metadata": {},
   "outputs": [],
   "source": [
    "color = \"white\"\n",
    "num = 5\n",
    "test = \"I like {} egg. I need {} eggs.\".format(color, num)\t\t# 여러 개의 값을 변수로 입력\n",
    "print(test)"
   ]
  },
  {
   "cell_type": "code",
   "execution_count": null,
   "metadata": {},
   "outputs": [],
   "source": [
    "a = \"{:.2f}\".format(5.6182359)\t# 소수점 둘째 자리까지 표현(소수점 셋째 자리에서 반올림)\n",
    "print(a)"
   ]
  },
  {
   "cell_type": "code",
   "execution_count": null,
   "metadata": {},
   "outputs": [],
   "source": [
    "x = 5.6182359\n",
    "a = \"{:15.2f}\".format(x)\t\t# 숫자 길이 15, 오른쪽 정렬, 소수점 둘째 자리까지 표현\n",
    "print(a)"
   ]
  },
  {
   "cell_type": "code",
   "execution_count": null,
   "metadata": {},
   "outputs": [],
   "source": [
    "a = \"I eat banana.\"\n",
    "a.count(\"n\")\t\t# 문자열에서 “n”의 개수 구하기"
   ]
  },
  {
   "cell_type": "code",
   "execution_count": null,
   "metadata": {},
   "outputs": [],
   "source": [
    "a = \"I eat banana.\"\n",
    "print(a.find(\"n\"))\t\t# find() 함수 활용, 문자열에서 “n”이 처음 나오는 인덱스 값 구하기\n",
    "print(a.index(\"n\"))\t\t# index() 함수 활용, 문자열에서 “n”이 처음 나오는 인덱스 값 구하기"
   ]
  },
  {
   "cell_type": "code",
   "execution_count": null,
   "metadata": {},
   "outputs": [],
   "source": [
    "print(a.find(\"d\"))\t\t# 문자열에서 “d”가 처음 나오는 인덱스 값 구하기\n",
    "print(a.index(\"d\"))\t\t# 문자열에서 “d”가 처음 나오는 인덱스 값 구하기"
   ]
  },
  {
   "cell_type": "code",
   "execution_count": null,
   "metadata": {},
   "outputs": [],
   "source": [
    "b = \",\".join(\"fruit\")\t\t# join() 함수 안에 있는 문자열의 문자 사이에 “,” 삽입하기\n",
    "print(b)"
   ]
  },
  {
   "cell_type": "code",
   "execution_count": null,
   "metadata": {},
   "outputs": [],
   "source": [
    "a = \"Hello\"\n",
    "print(a.upper())\t\t# 문자를 전부 대문자로 변경\n",
    "print(a.lower())\t\t# 문자를 전부 소문자로 변경"
   ]
  },
  {
   "cell_type": "code",
   "execution_count": null,
   "metadata": {},
   "outputs": [],
   "source": [
    "a = \"  Hello  \"\n",
    "print(a.strip()) ; print(a.lstrip()) ; print(a.rstrip()) "
   ]
  },
  {
   "cell_type": "code",
   "execution_count": null,
   "metadata": {},
   "outputs": [],
   "source": [
    "a = \"I eat banana.\"\n",
    "a.split()\t\t\t# 공백을 기준으로 문자열 나누기"
   ]
  },
  {
   "cell_type": "code",
   "execution_count": null,
   "metadata": {},
   "outputs": [],
   "source": [
    "a = \"a:b:c:d:e\"\n",
    "a.split(':')\t\t# ':'을 기준으로 문자열 나누기"
   ]
  },
  {
   "cell_type": "code",
   "execution_count": null,
   "metadata": {},
   "outputs": [],
   "source": [
    "a = \"I eat banana.\"\n",
    "print(a.replace(\"a\", \"b\", 1))\t# 문자열에서 “a”를 “b”로 1회 변경\n",
    "print(a.replace(\"a\", \"b\"))\t\t# 문자열에서 “a”를 “b”로 모두 변경"
   ]
  },
  {
   "cell_type": "markdown",
   "metadata": {},
   "source": [
    "### 불"
   ]
  },
  {
   "cell_type": "code",
   "execution_count": null,
   "metadata": {},
   "outputs": [],
   "source": [
    "print(1 == 1)\t\t# 1과 1이 같은지 판단,  True 출력\n",
    "print(10 < 8 )\t\t# 10이 8보다 작은지 판단,  False 출력"
   ]
  },
  {
   "cell_type": "code",
   "execution_count": null,
   "metadata": {},
   "outputs": [],
   "source": [
    "print(bool(\"python\"))\t\t# “python”이라는 문자열이 있으므로 True\n",
    "print(bool(None))\t\t\t# None 또는 ““인 경우 False"
   ]
  },
  {
   "cell_type": "markdown",
   "metadata": {},
   "source": [
    "## 2.3 복합 자료형"
   ]
  },
  {
   "cell_type": "markdown",
   "metadata": {},
   "source": [
    "### 리스트"
   ]
  },
  {
   "cell_type": "code",
   "execution_count": null,
   "metadata": {},
   "outputs": [],
   "source": [
    "a = [ ]\t\t\t\t\t\t\t\t\t# 공백(띄어쓰기)을 데이터로 갖는 리스트\n",
    "b = [1, 2, 3, 4, 5]\t\t\t\t\t\t# 숫자를 데이터로 갖는 리스트\n",
    "c = [\"I\", \"like\", \"python\"]\t\t\t\t# 문자열을 데이터로 갖는 리스트\n",
    "d = [1, 2, \"Python\"]\t\t\t\t\t# 숫자와 문자열을 데이터로 갖는 리스트\n",
    "e = [1, 2, [\"Python\", \"C\", \"Java\"]]\t\t# 숫자와 리스트를 데이터로 갖는 리스트"
   ]
  },
  {
   "cell_type": "code",
   "execution_count": null,
   "metadata": {},
   "outputs": [],
   "source": [
    "a = [3, 7, 9]\n",
    "b = [4, 6, 10]\n",
    "print(a + b)\t\t# 리스트 자료형을 가진 변수 a에 변수 b의 데이터를 추가\n",
    "print(a * 3)\t\t# 리스트 자료형을 가진 변수 a의 데이터를 세 번 반복"
   ]
  },
  {
   "cell_type": "code",
   "execution_count": null,
   "metadata": {},
   "outputs": [],
   "source": [
    "test = [75, 69, 95, 84, 89]\n",
    "food = [\"milk\", \"juice\", \"rice\", \"soup\", \"cookie\"]\n",
    "print(test[2])\t\t\t# 인덱스가 0부터 시작하기 때문에 3번째 데이터인 95를 출력\n",
    "print(food[3:5])\t\t# 인덱스 3~4에 있는 데이터인 ‘soup’, ‘cookie’를 출력"
   ]
  },
  {
   "cell_type": "code",
   "execution_count": null,
   "metadata": {},
   "outputs": [],
   "source": [
    "a = [1, 2, [\"Python\", \"C\", \"Java\"]]\t\t# 숫자와 리스트를 데이터로 갖는 리스트(중첩 리스트)\n",
    "print(a[2])\t\t\t# 변수 a에 저장된 데이터 중 3번째 데이터를 출력\n",
    "print(a[2][:2])\t\t# 출력된 3번째 데이터에서 처음부터 인덱스 1까지 슬라이싱 "
   ]
  },
  {
   "cell_type": "code",
   "execution_count": null,
   "metadata": {},
   "outputs": [],
   "source": [
    "a = [1, 3, 5, 7, 6, 2, 4]\n",
    "a[3] = 8\t\t\t# 변수 a의 인덱스 3 데이터를 8로 변경\n",
    "print(a)"
   ]
  },
  {
   "cell_type": "code",
   "execution_count": null,
   "metadata": {},
   "outputs": [],
   "source": [
    "a = [1, 3, 5, 7, 6, 2, 4]\n",
    "del a[3]\t\t\t# 변수 a의 인덱스 3 데이터 삭제\n",
    "print(a)"
   ]
  },
  {
   "cell_type": "code",
   "execution_count": null,
   "metadata": {},
   "outputs": [],
   "source": [
    "a = [1, 2, 3, 4]\n",
    "a.append(3)\t\t\t# 변수 a의 마지막 위치에 3을 추가\n",
    "print(a)"
   ]
  },
  {
   "cell_type": "code",
   "execution_count": null,
   "metadata": {},
   "outputs": [],
   "source": [
    "a.append([3, 5, 9])\t\t# 변수 a에 리스트를 추가\n",
    "print(a)"
   ]
  },
  {
   "cell_type": "code",
   "execution_count": null,
   "metadata": {},
   "outputs": [],
   "source": [
    "a = [1, 2, 3, 4]\n",
    "a.insert(0, 7)\t\t# 변수 a의 인덱스 0 위치에 7을 추가\n",
    "print(a)"
   ]
  },
  {
   "cell_type": "code",
   "execution_count": null,
   "metadata": {},
   "outputs": [],
   "source": [
    "a = [1, 2, 3, 4, 5, 4, 3, 2, 1]\n",
    "a.remove(4)\t\t\t# remove(x)는 리스트에서 첫 번째로 일치하는 x를 삭제\n",
    "print(a)"
   ]
  },
  {
   "cell_type": "code",
   "execution_count": null,
   "metadata": {},
   "outputs": [],
   "source": [
    "a = [1, 3, 5, 7, 6, 2, 4]\n",
    "a.sort()\t\t\t\t\t# 변수 a의 데이터를 오름차순 정렬\n",
    "print(a)"
   ]
  },
  {
   "cell_type": "code",
   "execution_count": null,
   "metadata": {},
   "outputs": [],
   "source": [
    "a = [1, 3, 5, 7, 6, 2, 4]\n",
    "a.sort(reverse=True)\t\t# 변수 a의 데이터를 내림차순 정렬\n",
    "print(a)"
   ]
  },
  {
   "cell_type": "code",
   "execution_count": null,
   "metadata": {},
   "outputs": [],
   "source": [
    "a = [1, 3, 5, 7, 6, 2, 4]\n",
    "a.reverse()\t\t\t\t\t# 변수 a의 데이터 순서 뒤집기\n",
    "print(a)"
   ]
  },
  {
   "cell_type": "code",
   "execution_count": null,
   "metadata": {},
   "outputs": [],
   "source": [
    "a = [1, 3, 5, 7, 6, 2, 4]\n",
    "print(a.pop())\t\t# 변수 a의 마지막 데이터를 보여준 다음 삭제\n",
    "print(a)"
   ]
  },
  {
   "cell_type": "code",
   "execution_count": null,
   "metadata": {},
   "outputs": [],
   "source": [
    "a = [1, 3, 5, 7, 6, 2, 4]\n",
    "print(a.pop(3))\t\t# 변수 a의 인덱스 3 데이터를 보여준 다음 삭제\n",
    "print(a)"
   ]
  },
  {
   "cell_type": "code",
   "execution_count": null,
   "metadata": {},
   "outputs": [],
   "source": [
    "a = [1, 3, 5, 7, 6, 2, 4]\n",
    "a.extend([3, 5, 7])\t\t# 변수 a에 3, 5, 7을 추가함\n",
    "print(a)"
   ]
  },
  {
   "cell_type": "code",
   "execution_count": null,
   "metadata": {},
   "outputs": [],
   "source": [
    "a = [1, 3, 5, 7, 6, 2, 4]\n",
    "b = [3, 5, 7]\n",
    "a.extend(b)\t\t# 변수 a에 변수 b 데이터를 추가함\n",
    "print(a)"
   ]
  },
  {
   "cell_type": "markdown",
   "metadata": {},
   "source": [
    "### 튜플"
   ]
  },
  {
   "cell_type": "code",
   "execution_count": null,
   "metadata": {},
   "outputs": [],
   "source": [
    "tp1 = ( )\n",
    "tp2 = (1, )\t\t\t\t# 데이터가 하나만 있는 튜플을 만들 경우 데이터 뒤에 ,(쉼표) 필수 입력\n",
    "tp3 = (1, 2, 3)\n",
    "tp4 = 1, 2, 3 \t\t\t# 괄호 () 생략 가능\n",
    "tp5 = (\"a\", \"b\", (\"ab\", \"cd\"))"
   ]
  },
  {
   "cell_type": "code",
   "execution_count": null,
   "metadata": {},
   "outputs": [],
   "source": [
    "tp1 = (1, 2, 3, \"a\", \"b\", \"c\")\n",
    "tp2 = (4, 5, 6)\n",
    "print(tp1 + tp2)\t\t# 튜플 자료형을 가진 변수 tp1과 tp2의 데이터를 합치기\n",
    "print(tp2 * 2)\t\t\t# 튜플 자료형을 가진 변수 tp2의 데이터를 두 번 반복하기"
   ]
  },
  {
   "cell_type": "code",
   "execution_count": null,
   "metadata": {},
   "outputs": [],
   "source": [
    "tp = (1, 2, (\"ab\", \"cd\", \"ef\"), 3, \"a\", \"b\", \"c\")\t# 숫자, 문자열, 튜플을 데이터로 갖는 튜플\n",
    "print(tp[2])\t\t\t# 변수 tp에 저장된 데이터 중 3번째 데이터를 출력 \n",
    "print(tp[2][:2])\t\t# 변수 tp의 3번째 데이터에서 처음부터 인덱스 1까지 슬라이싱 "
   ]
  },
  {
   "cell_type": "markdown",
   "metadata": {},
   "source": [
    "### 딕셔너리"
   ]
  },
  {
   "cell_type": "code",
   "execution_count": null,
   "metadata": {},
   "outputs": [],
   "source": [
    "dict1 = {\"name\" : \"Lee\", \"age\" : 29, \"birth\" : \"0320\"}\t# 예시\n",
    "dict2 = {1 : \"ab\"}\t\t\t\t\t# Key에 정수형, Value에 문자열 자료형을 입력한 예\n",
    "dict3 = {\"test\" : [1, 3, 5, 7]}\t\t# Value에 리스트 자료형을 입력한 예"
   ]
  },
  {
   "cell_type": "code",
   "execution_count": null,
   "metadata": {},
   "outputs": [],
   "source": [
    "dict4 = {\"a\" : [1, 2], \"b\" : [3, 4], \"c\" : [5, 6]}\n",
    "print(dict4[\"a\"])"
   ]
  },
  {
   "cell_type": "code",
   "execution_count": null,
   "metadata": {},
   "outputs": [],
   "source": [
    "dict5 = {\"a\" : [1, 2]}\n",
    "dict5[\"b\"] = [3, 4]\t\t# 변수 dict5에 Key:Value가 \"b\" : [3, 4]인 딕셔너리 쌍 추가\n",
    "print(dict5)"
   ]
  },
  {
   "cell_type": "code",
   "execution_count": null,
   "metadata": {},
   "outputs": [],
   "source": [
    "dict6 = {\"a\" : [1, 2], \"b\" : [3, 4], \"c\" : [5, 6]}\n",
    "del dict6[\"c\"]\t\t\t# Key \"c\"에 해당하는 Value [5, 6]을 삭제하면 Key : Value 쌍이 삭제됨\n",
    "print(dict6)"
   ]
  },
  {
   "cell_type": "code",
   "execution_count": null,
   "metadata": {},
   "outputs": [],
   "source": [
    "del dict\n",
    "list1 = [[\"a\", 2], [\"b\", 4], [\"c\", 6]]\n",
    "dict(list1)\t\t\t\t# 중첩 리스트로 구성된 자료형을 딕셔너리로 변경"
   ]
  },
  {
   "cell_type": "code",
   "execution_count": null,
   "metadata": {},
   "outputs": [],
   "source": [
    "list2 = [(\"a\", 2), (\"b\", 4), (\"c\", 6)]\n",
    "dict(list2)\t\t\t\t# 리스트 내 튜플로 구성된 자료형을 딕셔너리로 변경"
   ]
  },
  {
   "cell_type": "code",
   "execution_count": null,
   "metadata": {},
   "outputs": [],
   "source": [
    "tp1 = ([\"a\", 2], [\"b\", 4], [\"c\", 6])\n",
    "dict(tp1)\t\t\t\t# 튜플 내 리스트로 구성된 자료형을 딕셔너리로 변경"
   ]
  },
  {
   "cell_type": "code",
   "execution_count": null,
   "metadata": {},
   "outputs": [],
   "source": [
    "tp2 = ((\"a\", 2), (\"b\", 4), (\"c\", 6))\n",
    "dict(tp2)\t\t\t\t# 중첩 튜플로 구성된 자료형을 딕셔너리로 변경"
   ]
  },
  {
   "cell_type": "code",
   "execution_count": null,
   "metadata": {},
   "outputs": [],
   "source": [
    "a = 3 \t\t# 변수 a에 정수형 자료 저장\n",
    "float(a) \t# 변수 a를 실수형으로 변환"
   ]
  },
  {
   "cell_type": "code",
   "execution_count": null,
   "metadata": {},
   "outputs": [],
   "source": [
    "a = 3.619\t# 변수 a에 실수형 자료 저장\n",
    "int(a)\t\t# 변수 a를 정수형으로 변환(소수점 자리는 버림)"
   ]
  },
  {
   "cell_type": "code",
   "execution_count": null,
   "metadata": {},
   "outputs": [],
   "source": [
    "b = [1, 2, 3, 4, 5]\t\t# 변수 b에 리스트 자료 저장\n",
    "tuple(b)\t\t\t\t# 변수 b를 튜플형으로 변환"
   ]
  },
  {
   "cell_type": "code",
   "execution_count": null,
   "metadata": {},
   "outputs": [],
   "source": [
    "dict(b)\t \t    # 변수 b가 쌍으로 구성되지 않았기 때문에 딕셔너리로 변경 시 에러 발생"
   ]
  },
  {
   "cell_type": "code",
   "execution_count": null,
   "metadata": {},
   "outputs": [],
   "source": [
    "a = 5\t\t\t\t\t\t\t\t\t# 정수\n",
    "b = 3.14\t\t\t\t\t\t\t\t# 실수\n",
    "c = \"love\"\t\t\t\t\t\t\t\t# 문자열\n",
    "d = True\t\t\t\t\t\t\t\t# 불\n",
    "e = [1, 2, 3, 4, 5]\t\t\t\t\t\t# 리스트\n",
    "f = (6, 7, 8, 9, 10)\t\t\t\t\t# 튜플\n",
    "g = {\"name\":\"park\",\"number\":\"505\"} \t\t# 딕셔너리\n",
    "print(type(a),type(b))\n",
    "print(type(c),type(d))\n",
    "print(type(e),type(f),type(g))"
   ]
  },
  {
   "cell_type": "code",
   "execution_count": null,
   "metadata": {},
   "outputs": [],
   "source": [
    "dict1 = {\"name\" : \"Lee\", \"age\" : 29, \"birth\" : \"0320\"}\n",
    "print(dict1.keys())\t\t\t# 변수 dict1의 Key만 모아서 출력\n",
    "print(list(dict1.keys()))\t# 변수 dict1의 Key만 모인 객체를 리스트로 출력"
   ]
  },
  {
   "cell_type": "code",
   "execution_count": null,
   "metadata": {},
   "outputs": [],
   "source": [
    "list(dict1.values())\t\t# 변수 dict1의 Value만 모인 객체를 리스트로 출력"
   ]
  },
  {
   "cell_type": "code",
   "execution_count": null,
   "metadata": {},
   "outputs": [],
   "source": [
    "dict2 = {\"name\" : \"Lee\", \"age\" : 29, \"birth\" : \"0320\"}\n",
    "dict2.items()\t\t# 변수 dict2의 Key와 Value 쌍을 튜플로 출력"
   ]
  },
  {
   "cell_type": "code",
   "execution_count": null,
   "metadata": {},
   "outputs": [],
   "source": [
    "dict3 = {\"name\" : \"Lee\", \"age\" : 29, \"birth\" : \"0320\"}\n",
    "dict3.clear()\t\t# 변수 dict3 안의 모든 쌍을 삭제\n",
    "print(dict3)"
   ]
  },
  {
   "cell_type": "code",
   "execution_count": null,
   "metadata": {},
   "outputs": [],
   "source": [
    "dict3 = {\"name\" : \"Lee\", \"age\" : 29, \"birth\" : \"0320\"}\n",
    "print(\"name\" in dict3)\t\t# 변수 dict3 안에 \"name\" Key가 있으면 True, 없으면 False"
   ]
  },
  {
   "cell_type": "markdown",
   "metadata": {},
   "source": [
    "### 집합"
   ]
  },
  {
   "cell_type": "code",
   "execution_count": null,
   "metadata": {},
   "outputs": [],
   "source": [
    "set1 = set([1, 2, 5, 3, 7, 4])\n",
    "print(set1)\t\t\t\t\t\t# 숫자로 된 리스트의 집합 자료형은 분해되면서 오름차순으로 출력됨"
   ]
  },
  {
   "cell_type": "code",
   "execution_count": null,
   "metadata": {},
   "outputs": [],
   "source": [
    "set2 = set(\"school bus\")\t\t# 문자열의 경우 문자로 분해되고 중복 문자는 제거됨\n",
    "print(set2)\t\t\t\t\t\t# 집합 자료형은 순서를 가지지 않으므로 랜덤으로 출력됨"
   ]
  },
  {
   "cell_type": "code",
   "execution_count": null,
   "metadata": {},
   "outputs": [],
   "source": [
    "set1 = set([1, 2, 3, 4, 5, 6, 7])\n",
    "set2 = set([5, 6, 7, 8, 9, 10, 11])\n",
    "print(set1 & set2)\t\t\t\t# 교집합(두 집합의 공통 데이터)\n",
    "print(set1.intersection(set2))\t# 교집합(set2.intersection(set1)과 결과는 동일)"
   ]
  },
  {
   "cell_type": "code",
   "execution_count": null,
   "metadata": {},
   "outputs": [],
   "source": [
    "print(set1 | set2)\t\t\t# 합집합(두 집합의 전체 데이터), |은 [shift] + [\\]\n",
    "print(set1.union(set2))\t\t# 합집합(set2.union(set1)과 결과는 동일)"
   ]
  },
  {
   "cell_type": "code",
   "execution_count": null,
   "metadata": {},
   "outputs": [],
   "source": [
    "print(set1 - set2)\t\t\t\t# 차집합(set1에 포함되나 set2에 포함되지 않는 집합)\n",
    "print(set1.difference(set2))\t# 차집합(set2.difference(set1)과 결과는 다름)"
   ]
  },
  {
   "cell_type": "code",
   "execution_count": null,
   "metadata": {},
   "outputs": [],
   "source": [
    "print(set2 - set1)\t\t# 차집합(set2에 포함되나 set1에 포함되지 않는 집합)\n",
    "print(set2.difference(set1))\t# 차집합(set1.difference(set2)과 결과는 다름)"
   ]
  },
  {
   "cell_type": "code",
   "execution_count": null,
   "metadata": {},
   "outputs": [],
   "source": [
    "set1 = set([1, 2, 3, 5])\n",
    "set1.add(4)\n",
    "set1"
   ]
  },
  {
   "cell_type": "code",
   "execution_count": null,
   "metadata": {},
   "outputs": [],
   "source": [
    "set2 = set([1, 2, 3, 4, 5])\n",
    "set2.update([6, 7, 8])\n",
    "set2"
   ]
  },
  {
   "cell_type": "code",
   "execution_count": null,
   "metadata": {},
   "outputs": [],
   "source": [
    "set3 = set([1, 2, 3, 4, 5])\n",
    "set3.remove(3)\n",
    "set3"
   ]
  }
 ],
 "metadata": {
  "interpreter": {
   "hash": "ac59ebe37160ed0dfa835113d9b8498d9f09ceb179beaac4002f036b9467c963"
  },
  "kernelspec": {
   "display_name": "Python 3 (ipykernel)",
   "language": "python",
   "name": "python3"
  },
  "language_info": {
   "codemirror_mode": {
    "name": "ipython",
    "version": 3
   },
   "file_extension": ".py",
   "mimetype": "text/x-python",
   "name": "python",
   "nbconvert_exporter": "python",
   "pygments_lexer": "ipython3",
   "version": "3.9.7"
  }
 },
 "nbformat": 4,
 "nbformat_minor": 4
}
